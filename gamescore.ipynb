{
 "cells": [
  {
   "cell_type": "code",
   "execution_count": 3,
   "metadata": {},
   "outputs": [],
   "source": [
    "from datetime import datetime\n",
    "import pandas as pd\n",
    "import matplotlib.pyplot as plt\n",
    "import numpy as np\n",
    "import re\n",
    "from sklearn import preprocessing\n",
    "from sklearn.linear_model import LinearRegression\n",
    "from tensorflow import keras\n",
    "from sklearn.model_selection import train_test_split\n",
    "from sklearn.preprocessing import PolynomialFeatures\n",
    "from sklearn.metrics import mean_squared_error, r2_score\n",
    "from urllib.request import urlopen\n",
    "from bs4 import BeautifulSoup\n",
    "from haversine import haversine\n",
    "import pprint\n",
    "from tensorflow.keras.models import Sequential\n",
    "from tensorflow.keras.layers import Dense\n",
    "from tensorflow.keras.layers import LSTM\n",
    "from tensorflow.keras.layers import Dropout\n",
    "import pandas as pd\n",
    "import requests\n",
    "from sklearn.model_selection import train_test_split\n",
    "from matplotlib import pyplot"
   ]
  },
  {
   "cell_type": "code",
   "execution_count": 4,
   "metadata": {},
   "outputs": [],
   "source": [
    "injuries = pd.read_csv(\"NBA_Injury_Data.csv\")\n",
    "df_cities = pd.read_csv(\"stadiums.csv\") \n",
    "df_cities = df_cities[df_cities['League'] == 'NBA']\n",
    "player = pd.read_csv(\"joel_embiid_2020_2021.csv\")\n",
    "name = 'Joel Embiid'"
   ]
  },
  {
   "cell_type": "code",
   "execution_count": 5,
   "metadata": {},
   "outputs": [],
   "source": [
    "daysBetweenRegressor = 0 #calculate game and day played frequency \n",
    "minsPlayedRegressor = 0 #take into account mins played yesterday\n",
    "distTraveledRegressor = 0 #distance traveled to play\n",
    "injuryRegressor = 0 #effect and severity of injury \n",
    "currentInjury = None #name of injury"
   ]
  },
  {
   "cell_type": "code",
   "execution_count": 6,
   "metadata": {},
   "outputs": [],
   "source": [
    "teams_expanded = {'DAL': 'Dallas Mavericks', \n",
    "                'ORL': 'Orlando Magic', \n",
    "                'SAS': 'San Antonio Spurs',\n",
    "                'DEN': 'Denver Nuggets',\n",
    "                'BKN': 'Brooklyn Nets',\n",
    "                'BRK': 'Brooklyn Nets',\n",
    "                'UTA': 'Utah Jazz',\n",
    "                'WAS': 'Washington Wizards',\n",
    "                'GSW': 'Golden State Warriors',\n",
    "                'LAC': 'Los Angeles Clippers',\n",
    "                'LAL': 'Los Angeles Lakers',\n",
    "                'MEM': 'Memphis Grizzlies', \n",
    "                'MIL': 'Milwaukee Bucks',\n",
    "                'PHX': 'Phoenix Suns',\n",
    "                'PHO': 'Phoenix Suns',\n",
    "                'MIA': 'Miami Heat',\n",
    "                'IND': 'Indiana Pacers',\n",
    "                'SAC': 'Sacremento Kings',\n",
    "                'DET': 'Detroit Pistons',\n",
    "                'PHI': 'Philadelphia 76ers', \n",
    "                'NYK': 'New York Knicks',\n",
    "                'POR': 'Portland Trail Blazers',\n",
    "                'OKC': 'Oklahoma City Thunder', \n",
    "                'CLE': 'Cleveland Cavaliers',\n",
    "                'TOR': 'Toronto Raptors',\n",
    "                'NOP': 'New Orleans Pelicans',\n",
    "                'CHO': 'Charlotte Hornets',\n",
    "                'ATL': 'Atlanta Hawks',\n",
    "                'MIN': 'Minnesota Timberwolves',\n",
    "                'BOS': 'Boston Celtics',\n",
    "                'HOU': 'Houston Rockets',\n",
    "                'CHI': 'Chicago Bulls',\n",
    "                }"
   ]
  },
  {
   "cell_type": "code",
   "execution_count": 7,
   "metadata": {},
   "outputs": [],
   "source": [
    "'''\n",
    "https://towardsdatascience.com/realigning-sports-leagues-with-a-clustering-algorithm-d6e9de9294d0\n",
    "'''\n",
    "def dist(lat1, long1, lat2, long2):\n",
    "    \n",
    "    lat1, lat2 = np.deg2rad(lat1), np.deg2rad(lat2)\n",
    "    long1, long2 = np.deg2rad(long1), np.deg2rad(long2)\n",
    "    EARTH_RADIUS = 3958.8\n",
    "    return EARTH_RADIUS * np.arccos((np.sin(lat1) * np.sin(lat2)) + \n",
    "                          np.cos(lat1) * np.cos(lat2) * np.cos(long2 - long1))"
   ]
  },
  {
   "cell_type": "code",
   "execution_count": 8,
   "metadata": {},
   "outputs": [],
   "source": [
    "def calcDist(start, end):\n",
    "    print(start, end)\n",
    "    start_long = df_cities.loc[df_cities.Team == teams_expanded[start], 'Long'].tolist()[0]\n",
    "    start_lat = df_cities.loc[df_cities.Team == teams_expanded[start], 'Lat'].tolist()[0]\n",
    "    end_long = df_cities.loc[df_cities.Team == teams_expanded[end], 'Long'].tolist()[0]\n",
    "    end_lat = df_cities.loc[df_cities.Team == teams_expanded[end], 'Lat'].tolist()[0]\n",
    "    print(haversine((start_lat, start_long),(end_lat, end_long), unit='mi'))\n",
    "    return haversine((start_lat, start_long),(end_lat, end_long), unit='mi')\n",
    "\n",
    "    "
   ]
  },
  {
   "cell_type": "code",
   "execution_count": 9,
   "metadata": {},
   "outputs": [],
   "source": [
    "def regressionCalc(injury):\n",
    "    print(\"injury detected\")\n",
    "    print(injury)\n",
    "    currInj = 'standard'\n",
    "    injRegress = -0.10\n",
    "    if '(out for season)' in injury:\n",
    "        currInj = 'EOS'\n",
    "        injRegress = -1\n",
    "    elif 'sore' in injury:\n",
    "        currInj = 'soreness' \n",
    "        injRegress = -0.10\n",
    "    elif 'surgery' in injury:\n",
    "        currInj = 'surgery recovery' \n",
    "        injRegress = -0.10\n",
    "    elif 'injury' in injury:\n",
    "        currInj = 'standard injury'\n",
    "        injRegress = -0.10\n",
    "\n",
    "    return injRegress\n",
    "\n",
    "    \n"
   ]
  },
  {
   "cell_type": "code",
   "execution_count": 10,
   "metadata": {},
   "outputs": [],
   "source": [
    "def getDayDiff(day1, day2): \n",
    "    x = datetime.strptime(day1, \"%Y-%m-%d\")\n",
    "    y = datetime.strptime(day2, \"%Y-%m-%d\")\n",
    "    return (x-y).days"
   ]
  },
  {
   "cell_type": "code",
   "execution_count": 11,
   "metadata": {},
   "outputs": [
    {
     "name": "stdout",
     "output_type": "stream",
     "text": [
      "2020-12-23\n",
      "WAS\n"
     ]
    }
   ],
   "source": [
    "prevLoc = 'NOP'\n",
    "prevMins = 0\n",
    "prevDate = player['Date'].iloc[0]\n",
    "print(prevDate)\n",
    "if player['Date'].iloc[0] == None:\n",
    "    print(player['Home'].iloc[0])\n",
    "else: \n",
    "    print(player['Opp'].iloc[0])\n",
    "\n"
   ]
  },
  {
   "cell_type": "code",
   "execution_count": 12,
   "metadata": {},
   "outputs": [
    {
     "name": "stdout",
     "output_type": "stream",
     "text": [
      "34\n"
     ]
    },
    {
     "ename": "AttributeError",
     "evalue": "'Pandas' object has no attribute 'Home'",
     "output_type": "error",
     "traceback": [
      "\u001b[0;31m---------------------------------------------------------------------------\u001b[0m",
      "\u001b[0;31mAttributeError\u001b[0m                            Traceback (most recent call last)",
      "\u001b[0;32m/var/folders/q0/d1fpvqkd2kz9d777d335jqsw0000gn/T/ipykernel_4952/2099381937.py\u001b[0m in \u001b[0;36m<module>\u001b[0;34m\u001b[0m\n\u001b[1;32m      7\u001b[0m         \u001b[0;32mif\u001b[0m \u001b[0mvalues\u001b[0m\u001b[0;34m[\u001b[0m\u001b[0;34m-\u001b[0m\u001b[0;36m1\u001b[0m\u001b[0;34m]\u001b[0m \u001b[0;34m==\u001b[0m \u001b[0;36m0.6\u001b[0m\u001b[0;34m:\u001b[0m\u001b[0;34m\u001b[0m\u001b[0;34m\u001b[0m\u001b[0m\n\u001b[1;32m      8\u001b[0m             \u001b[0mvalues\u001b[0m\u001b[0;34m[\u001b[0m\u001b[0;34m-\u001b[0m\u001b[0;36m1\u001b[0m\u001b[0;34m]\u001b[0m \u001b[0;34m=\u001b[0m \u001b[0;36m0.8\u001b[0m\u001b[0;34m\u001b[0m\u001b[0;34m\u001b[0m\u001b[0m\n\u001b[0;32m----> 9\u001b[0;31m         \u001b[0;32mif\u001b[0m \u001b[0mrow\u001b[0m\u001b[0;34m.\u001b[0m\u001b[0mHome\u001b[0m \u001b[0;34m==\u001b[0m \u001b[0;34m'@'\u001b[0m\u001b[0;34m:\u001b[0m\u001b[0;34m\u001b[0m\u001b[0;34m\u001b[0m\u001b[0m\n\u001b[0m\u001b[1;32m     10\u001b[0m             \u001b[0mdist\u001b[0m \u001b[0;34m=\u001b[0m \u001b[0mcalcDist\u001b[0m\u001b[0;34m(\u001b[0m\u001b[0mprevLoc\u001b[0m\u001b[0;34m,\u001b[0m \u001b[0mrow\u001b[0m\u001b[0;34m.\u001b[0m\u001b[0mOpp\u001b[0m\u001b[0;34m)\u001b[0m\u001b[0;34m\u001b[0m\u001b[0;34m\u001b[0m\u001b[0m\n\u001b[1;32m     11\u001b[0m             \u001b[0mprevLoc\u001b[0m \u001b[0;34m=\u001b[0m \u001b[0mrow\u001b[0m\u001b[0;34m.\u001b[0m\u001b[0mOpp\u001b[0m\u001b[0;34m\u001b[0m\u001b[0;34m\u001b[0m\u001b[0m\n",
      "\u001b[0;31mAttributeError\u001b[0m: 'Pandas' object has no attribute 'Home'"
     ]
    }
   ],
   "source": [
    "cnt = 0\n",
    "values = []\n",
    "values.append(1)\n",
    "for row in player.itertuples():\n",
    "    print(row.MP[0:2])\n",
    "    if row.MP[0:2] != 'In' and row.MP[0:2] != 'Di':\n",
    "        if values[-1] == 0.6: \n",
    "            values[-1] = 0.8\n",
    "        if row.Home == '@':\n",
    "            dist = calcDist(prevLoc, row.Opp)\n",
    "            prevLoc = row.Opp\n",
    "        else:\n",
    "            dist = calcDist(prevLoc, row.Tm)\n",
    "            prevLoc = row.Tm\n",
    "\n",
    "\n",
    "        days = getDayDiff(row.Date, prevDate)\n",
    "        prevDate = row.Date\n",
    "        minutes = row.MP[0:2]\n",
    "\n",
    "        result = injuries[(injuries['Relinquished'] == name) & (injuries['Date'] == row.Date)]\n",
    "        if result.empty == False:\n",
    "            injury = regressionCalc(result.Notes)\n",
    "        else: \n",
    "            injury = 0\n",
    "        print(\"Distance Traveled: \" , dist)\n",
    "        print(\"Injury Value: \" , injury)\n",
    "        print(\"Days Rest: \" , days)\n",
    "\n",
    "        if dist == 0:\n",
    "            distRegress = 0.10\n",
    "        elif dist < 1000:\n",
    "            distRegress = -0.10\n",
    "        elif dist < 2000:\n",
    "            distRegress = -0.15\n",
    "        else: \n",
    "            distRegress = -0.20\n",
    "        if days == 1:\n",
    "            daysBonus = 0\n",
    "        elif days == 2:\n",
    "            daysBonus = 0.05\n",
    "        elif days == 3: \n",
    "            daysBonus = 0.10\n",
    "        else:\n",
    "            daysBonus = 0.15\n",
    "        if re.search('[a-zA-Z]', minutes) == False:\n",
    "            if int(minutes) < 20:\n",
    "                minsRegressor = 0\n",
    "            elif int(minutes) < 30:\n",
    "                minsRegressor = -0.10\n",
    "            elif int(minutes) < 40:\n",
    "                minsRegressor = -0.15\n",
    "            else: \n",
    "                minsRegressor = -0.20\n",
    "        else:\n",
    "            minsRegressor = 0\n",
    "        \n",
    "        healthValue = values[-1] + (0.33 *  distRegress) + (0.33 *  minsRegressor) + (0.33 * daysBonus) + injury\n",
    "        if healthValue >= float(1):\n",
    "            values.append(1.0)\n",
    "        else:\n",
    "            values.append(healthValue)\n",
    "        print(values[-1])\n",
    "        cnt += 1\n",
    "    else:\n",
    "        values.append(0.6)\n",
    "        print(0.6)"
   ]
  },
  {
   "cell_type": "code",
   "execution_count": null,
   "metadata": {},
   "outputs": [
    {
     "name": "stdout",
     "output_type": "stream",
     "text": [
      "[1, 1.0, 0.967, 0.9339999999999999, 0.9009999999999999, 0.8844999999999998, 0.9339999999999998, 0.8, 0.8825000000000001, 0.8495, 0.833, 0.6, 0.6, 0.6, 0.6, 0.6, 0.6, 0.6, 0.6, 0.8, 0.8165, 0.866, 0.8494999999999999, 0.8329999999999999, 0.8329999999999999, 0.8824999999999998, 0.8494999999999998, 0.8989999999999998, 0.8, 0.8825000000000001, 0.8495, 0.866, 0.866, 0.866, 0.8494999999999999, 0.8329999999999999, 0.8494999999999998, 0.8329999999999997, 0.8164999999999997, 0.7999999999999997, 0.7669999999999997, 0.8164999999999997, 0.7669999999999997, 0.7504999999999996, 0.7339999999999995, 0.7834999999999995, 0.7504999999999995, 0.7174999999999995, 0.7669999999999995, 0.8164999999999994, 0.8, 0.8825000000000001, 0.8495, 0.833, 0.8164999999999999, 0.8825, 0.9155, 0.9815, 0.965, 0.9814999999999999, 0.9484999999999999]\n",
      "[1.0, 0.967, 0.9339999999999999, 0.9009999999999999, 0.8844999999999998, 0.9339999999999998, 0.8, 0.8825000000000001, 0.8495, 0.833, 0.6, 0.6, 0.6, 0.6, 0.6, 0.6, 0.6, 0.6, 0.8, 0.8165, 0.866, 0.8494999999999999, 0.8329999999999999, 0.8329999999999999, 0.8824999999999998, 0.8494999999999998, 0.8989999999999998, 0.8, 0.8825000000000001, 0.8495, 0.866, 0.866, 0.866, 0.8494999999999999, 0.8329999999999999, 0.8494999999999998, 0.8329999999999997, 0.8164999999999997, 0.7999999999999997, 0.7669999999999997, 0.8164999999999997, 0.7669999999999997, 0.7504999999999996, 0.7339999999999995, 0.7834999999999995, 0.7504999999999995, 0.7174999999999995, 0.7669999999999995, 0.8164999999999994, 0.8, 0.8825000000000001, 0.8495, 0.833, 0.8164999999999999, 0.8825, 0.9155, 0.9815, 0.965, 0.9814999999999999, 0.9484999999999999]\n"
     ]
    }
   ],
   "source": [
    "print(values)\n",
    "values = values[1:]\n",
    "print(values)\n",
    "player['Injury and Fatigue Score'] = values"
   ]
  },
  {
   "cell_type": "code",
   "execution_count": null,
   "metadata": {},
   "outputs": [
    {
     "name": "stdout",
     "output_type": "stream",
     "text": [
      "0     1.0000\n",
      "1     0.9670\n",
      "2     0.9340\n",
      "3     0.9010\n",
      "4     0.8845\n",
      "5     0.9340\n",
      "6     0.8000\n",
      "7     0.8825\n",
      "8     0.8495\n",
      "9     0.8330\n",
      "10    0.6000\n",
      "11    0.6000\n",
      "12    0.6000\n",
      "13    0.6000\n",
      "14    0.6000\n",
      "15    0.6000\n",
      "16    0.6000\n",
      "17    0.6000\n",
      "18    0.8000\n",
      "19    0.8165\n",
      "20    0.8660\n",
      "21    0.8495\n",
      "22    0.8330\n",
      "23    0.8330\n",
      "24    0.8825\n",
      "25    0.8495\n",
      "26    0.8990\n",
      "27    0.8000\n",
      "28    0.8825\n",
      "29    0.8495\n",
      "30    0.8660\n",
      "31    0.8660\n",
      "32    0.8660\n",
      "33    0.8495\n",
      "34    0.8330\n",
      "35    0.8495\n",
      "36    0.8330\n",
      "37    0.8165\n",
      "38    0.8000\n",
      "39    0.7670\n",
      "40    0.8165\n",
      "41    0.7670\n",
      "42    0.7505\n",
      "43    0.7340\n",
      "44    0.7835\n",
      "45    0.7505\n",
      "46    0.7175\n",
      "47    0.7670\n",
      "48    0.8165\n",
      "49    0.8000\n",
      "50    0.8825\n",
      "51    0.8495\n",
      "52    0.8330\n",
      "53    0.8165\n",
      "54    0.8825\n",
      "55    0.9155\n",
      "56    0.9815\n",
      "57    0.9650\n",
      "58    0.9815\n",
      "59    0.9485\n",
      "Name: Injury and Fatigue Score, dtype: float64\n"
     ]
    }
   ],
   "source": [
    "print(player['Injury and Fatigue Score'])"
   ]
  }
 ],
 "metadata": {
  "interpreter": {
   "hash": "64eea4284b0b8a9e814b0795ce1df06a6111730ec9dd5a594ddf3abce22d3f7f"
  },
  "kernelspec": {
   "display_name": "Python 3.8.10 ('olreliable')",
   "language": "python",
   "name": "python3"
  },
  "language_info": {
   "codemirror_mode": {
    "name": "ipython",
    "version": 3
   },
   "file_extension": ".py",
   "mimetype": "text/x-python",
   "name": "python",
   "nbconvert_exporter": "python",
   "pygments_lexer": "ipython3",
   "version": "3.8.10"
  },
  "orig_nbformat": 4
 },
 "nbformat": 4,
 "nbformat_minor": 2
}
