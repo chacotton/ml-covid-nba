{
 "cells": [
  {
   "cell_type": "code",
   "execution_count": 5,
   "metadata": {},
   "outputs": [],
   "source": [
    "#Read Table Method\n",
    "import pandas as pd\n",
    "import cx_Oracle\n",
    "import sqlalchemy\n",
    "\n",
    "#establish connection -- USE SPECIFIC PATH\n",
    "cx_Oracle.init_oracle_client(lib_dir=r\"/Users/ethanblumenfeld/Downloads/instantclient_19_8\")"
   ]
  },
  {
   "cell_type": "code",
   "execution_count": 6,
   "metadata": {},
   "outputs": [],
   "source": [
    "def readTable(user, password, dsn, table):\n",
    "\n",
    "\n",
    "    connection = cx_Oracle.connect(user=user, password=password, dsn=dsn)\n",
    "\n",
    "    cursor = connection.cursor()\n",
    "\n",
    "    # return table as Data Frame\n",
    "\n",
    "    query = \"\"\"select * \n",
    "            from \"\"\" + table;\n",
    "    df = pd.read_sql(query, con=connection)\n",
    "\n",
    "    #print(df)\n",
    "    return df\n",
    "   \n"
   ]
  },
  {
   "cell_type": "code",
   "execution_count": 20,
   "metadata": {
    "scrolled": true
   },
   "outputs": [
    {
     "name": "stdout",
     "output_type": "stream",
     "text": [
      "   TEAM_NAME  GAMEDATE   STAT1      STAT2  STAT3 STAT4 STAT5\n",
      "0      team1  4/7/2022     one        two  three  four  five\n",
      "1      team4  4/7/2022    good        bad   good   bad  good\n",
      "2      team5  4/7/2022    good        bad   good   bad  good\n",
      "3      team5  4/7/2022  great!  Terrible!   None  None  None\n",
      "4      team5  4/7/2022    good        bad   good   bad  good\n",
      "5      team5  4/7/2022  great!        bad   good   bad  good\n",
      "6      team2  4/7/2022     one        two  three  four  five\n",
      "7      team3  4/7/2022     one        two  three  four  five\n",
      "8      team4  4/7/2022    good        bad   good   bad  good\n",
      "9      team5  4/7/2022    good        bad   good   bad  good\n",
      "10      None      None    None       None   None  None  None\n"
     ]
    }
   ],
   "source": [
    "#example\n",
    "df = readTable(\"admin\", \"!1Iloveoracle\", \"db202203241240_high\", \"team_sample\")\n",
    "print(df)"
   ]
  },
  {
   "cell_type": "code",
   "execution_count": 41,
   "metadata": {},
   "outputs": [],
   "source": [
    "# valDict is a dictionary of table column name mapped to value.\n",
    "def writeToTable(user, password, dsn, table, valDict):\n",
    "\n",
    "\n",
    "    connection = cx_Oracle.connect(user=user, password=password, dsn=dsn)\n",
    "\n",
    "    cursor = connection.cursor()\n",
    "    defaultDict = {'Predictive_Outcome':0}\n",
    "    \n",
    "    values = []\n",
    "    for column in defaultDict:\n",
    "        if column in valDict:\n",
    "            values.append(valDict[column])\n",
    "        else:\n",
    "            values.append(defaultDict[column])\n",
    "            \n",
    "    cursor.execute(\"insert into \"+table+\"(Predictive_Outcome) values (:1)\", values)\n",
    "\n",
    "    connection.commit()\n",
    "\n",
    "#example\n",
    "#values = {'TEAM_NAME':'team5' , 'GAMEDATE':'4/7/2022' , 'STAT1':'great!' , 'STAT2':'bad' , 'STAT3':'good' , 'STAT4':'bad', 'STAT5':'good'}\n",
    "#values = {'TEAM_NAME':'team5' , 'GAMEDATE':'4/7/2022' , 'STAT1':'great!' , 'STAT2':'Terrible!'}\n",
    "#writeToTable(\"admin\", \"!1Iloveoracle\", \"db202203241240_high\", \"team_sample\", values)"
   ]
  },
  {
   "cell_type": "markdown",
   "metadata": {},
   "source": [
    "Method 1:"
   ]
  },
  {
   "cell_type": "code",
   "execution_count": 25,
   "metadata": {},
   "outputs": [
    {
     "name": "stdout",
     "output_type": "stream",
     "text": [
      "CPU times: user 75.5 ms, sys: 8.87 ms, total: 84.3 ms\n",
      "Wall time: 2.19 s\n"
     ]
    }
   ],
   "source": [
    "%%time\n",
    "df = readTable(\"NBACOVID\", \"!1Iloveoracle\", \"db202203241240_high\", \"DATASET\")"
   ]
  },
  {
   "cell_type": "code",
   "execution_count": 42,
   "metadata": {},
   "outputs": [
    {
     "name": "stdout",
     "output_type": "stream",
     "text": [
      "CPU times: user 29.1 ms, sys: 6.3 ms, total: 35.4 ms\n",
      "Wall time: 1.12 s\n"
     ]
    }
   ],
   "source": [
    "%%time\n",
    "values = {'Predictive_Outcome':5}\n",
    "writeToTable(\"NBACOVID\", \"!1Iloveoracle\", \"db202203241240_high\", \"Predictions\", values)"
   ]
  },
  {
   "cell_type": "markdown",
   "metadata": {},
   "source": [
    "Method 2:"
   ]
  },
  {
   "cell_type": "code",
   "execution_count": 21,
   "metadata": {},
   "outputs": [
    {
     "name": "stdout",
     "output_type": "stream",
     "text": [
      "2.902796809999927 Seconds\n"
     ]
    }
   ],
   "source": [
    "import timeit\n",
    "start_time = timeit.default_timer()\n",
    "\n",
    "#Code to time\n",
    "df = readTable(\"NBACOVID\", \"!1Iloveoracle\", \"db202203241240_high\", \"DATASET\")\n",
    "\n",
    "elapsed = timeit.default_timer() - start_time\n",
    "print(elapsed, \"Seconds\")"
   ]
  },
  {
   "cell_type": "code",
   "execution_count": 43,
   "metadata": {},
   "outputs": [
    {
     "name": "stdout",
     "output_type": "stream",
     "text": [
      "0.9663302169992676 Seconds\n"
     ]
    }
   ],
   "source": [
    "import timeit\n",
    "start_time = timeit.default_timer()\n",
    "\n",
    "#Code to time\n",
    "values = {'Predictive_Outcome':5}\n",
    "writeToTable(\"NBACOVID\", \"!1Iloveoracle\", \"db202203241240_high\", \"Predictions\", values)\n",
    "\n",
    "elapsed = timeit.default_timer() - start_time\n",
    "print(elapsed, \"Seconds\")"
   ]
  },
  {
   "cell_type": "code",
   "execution_count": null,
   "metadata": {},
   "outputs": [],
   "source": []
  }
 ],
 "metadata": {
  "kernelspec": {
   "display_name": "Python 3",
   "language": "python",
   "name": "python3"
  },
  "language_info": {
   "codemirror_mode": {
    "name": "ipython",
    "version": 3
   },
   "file_extension": ".py",
   "mimetype": "text/x-python",
   "name": "python",
   "nbconvert_exporter": "python",
   "pygments_lexer": "ipython3",
   "version": "3.8.3"
  }
 },
 "nbformat": 4,
 "nbformat_minor": 4
}
