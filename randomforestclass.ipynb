{
 "cells": [
  {
   "cell_type": "code",
   "execution_count": 2,
   "metadata": {},
   "outputs": [],
   "source": [
    "from mlflow_utils import setup, test_data, team_train_test_split, atlantic_division\n",
    "from mlflow_utils.metrics import classification, regression\n",
    "import mlflow\n",
    "# import model\n",
    "from sklearn.model_selection import train_test_split, GridSearchCV, RandomizedSearchCV\n",
    "import pandas as pd\n",
    "import numpy as np\n",
    "import warnings\n",
    "from sklearn.metrics import accuracy_score\n",
    "\n",
    "warnings.filterwarnings(\"ignore\")\n",
    "\n",
    "setup() # leave blank, if doing covid or win prob then pass 'covid' or 'win'"
   ]
  },
  {
   "cell_type": "code",
   "execution_count": 3,
   "metadata": {
    "collapsed": false,
    "jupyter": {
     "outputs_hidden": false
    },
    "pycharm": {
     "name": "#%%\n"
    }
   },
   "outputs": [],
   "source": [
    "model_name = \"randomforest\" # place name of model here eg xgboost\n",
    "problem_type = \"classification\" # place one of [regression, classification, ts] here"
   ]
  },
  {
   "cell_type": "code",
   "execution_count": 5,
   "metadata": {
    "collapsed": false,
    "jupyter": {
     "outputs_hidden": false
    },
    "pycharm": {
     "name": "#%%\n"
    }
   },
   "outputs": [],
   "source": [
    "data = test_data(data=problem_type) # returns real dataset"
   ]
  },
  {
   "cell_type": "code",
   "execution_count": 6,
   "metadata": {
    "collapsed": false,
    "jupyter": {
     "outputs_hidden": false
    },
    "pycharm": {
     "name": "#%%\n"
    }
   },
   "outputs": [],
   "source": [
    "# split data\n",
    "team = ''       # only needed if doing regression\n",
    "if problem_type == 'regression':\n",
    "    opponents = [t for t in atlantic_division if t != team]\n",
    "    x_train, x_test, y_train, y_test = team_train_test_split(team=team, opponents=opponents, data=data)\n",
    "else:\n",
    "    x_train, x_test, y_train, y_test = train_test_split(data.data.drop([data.target], axis=1), data.data[data.target], test_size=.25)"
   ]
  },
  {
   "cell_type": "code",
   "execution_count": 15,
   "metadata": {},
   "outputs": [],
   "source": [
    "from sklearn.ensemble import RandomForestClassifier\n",
    "from sklearn.model_selection import GridSearchCV\n",
    "from sklearn.model_selection import RandomizedSearchCV"
   ]
  },
  {
   "cell_type": "code",
   "execution_count": null,
   "metadata": {},
   "outputs": [
    {
     "name": "stdout",
     "output_type": "stream",
     "text": [
      "Fitting 3 folds for each of 10368 candidates, totalling 31104 fits\n"
     ]
    }
   ],
   "source": [
    "# Create the parameter grid based on the results of random search \n",
    "param_grid = {\n",
    "    'bootstrap': [True, False],\n",
    "    'max_features': ['auto', 2, 3, 5, 6, 9],\n",
    "    'min_samples_leaf': [1, 3, 4, 5, 6, 7],\n",
    "    'min_samples_split': [2, 8, 10, 12, 14, 16],\n",
    "    'n_estimators': [100, 200, 300, 1000],\n",
    "    'max_depth' : [0, 2, 4, 6, 8, 12]\n",
    "}\n",
    "# Create a based model\n",
    "rf = RandomForestClassifier()\n",
    "# Instantiate the grid search model\n",
    "ran_search = GridSearchCV(estimator = rf, param_grid = param_grid, \n",
    "                          cv = 3, n_jobs = -1, verbose = 2)\n",
    "ran_search.fit(x_train,y_train)\n",
    "\n",
    "print(ran_search.best_params_)\n",
    "print(ran_search.best_score_)"
   ]
  },
  {
   "cell_type": "code",
   "execution_count": 46,
   "metadata": {},
   "outputs": [
    {
     "name": "stdout",
     "output_type": "stream",
     "text": [
      "0.6098484848484849\n"
     ]
    }
   ],
   "source": [
    "model = RandomForestClassifier(bootstrap= True, max_features= 2, min_samples_leaf= 1, min_samples_split= 12, n_estimators= 100)\n",
    "model.fit(x_train, y_train)\n",
    "y_pred = model.predict(x_test)\n",
    "\n",
    "print(accuracy_score(y_test, y_pred))"
   ]
  },
  {
   "cell_type": "code",
   "execution_count": 48,
   "metadata": {},
   "outputs": [
    {
     "name": "stdout",
     "output_type": "stream",
     "text": [
      "{'n_estimators': 200, 'min_samples_split': 10, 'min_samples_leaf': 4, 'max_features': 3, 'bootstrap': True}\n",
      "0.6098484848484849\n"
     ]
    }
   ],
   "source": [
    "if accuracy_score(y_test, y_pred) > best_score:\n",
    "    best_params = ran_search.best_params_\n",
    "    best_score = accuracy_score(y_test, y_pred)\n",
    "    print('Beaten')\n",
    "print(best_params)\n",
    "print(best_score)"
   ]
  },
  {
   "cell_type": "code",
   "execution_count": 13,
   "metadata": {
    "collapsed": false,
    "jupyter": {
     "outputs_hidden": false
    },
    "pycharm": {
     "name": "#%%\n"
    }
   },
   "outputs": [],
   "source": [
    "mlflow.autolog(silent=True)\n",
    "# initialize model\n",
    "\n",
    "\n",
    "\n",
    "with mlflow.start_run() as run:\n",
    "    mlflow.tracking.MlflowClient().set_tag(run_id=run.info.run_id, key=model_name, value=problem_type)\n",
    "    # train model\n",
    "    classi.fit(x_train, y_train)\n",
    "    y_pred = classi.predict(x_test)\n",
    "    \n",
    "\n",
    "    # run classification/regression metrics to log results\n",
    "    metrics = classification(y_test, y_pred)\n"
   ]
  },
  {
   "cell_type": "code",
   "execution_count": 14,
   "metadata": {},
   "outputs": [
    {
     "name": "stdout",
     "output_type": "stream",
     "text": [
      "{'accuracy': 0.6212121212121212, 'precision': 0.66875, 'auc': 0.6064935064935064, 'f1': 0.6815286624203821, 'recall': 0.6948051948051948}\n"
     ]
    }
   ],
   "source": [
    "print(metrics)"
   ]
  },
  {
   "cell_type": "code",
   "execution_count": null,
   "metadata": {},
   "outputs": [],
   "source": [
    "#https://towardsdatascience.com/hyperparameter-tuning-the-random-forest-in-python-using-scikit-learn-28d2aa77dd74\n",
    "#https://blog.dataiku.com/narrowing-the-search-which-hyperparameters-really-matter\n",
    "#https://rspiro9.github.io/hyperparameter_tuning_for_random_forest"
   ]
  }
 ],
 "metadata": {
  "kernelspec": {
   "display_name": "Python 3",
   "language": "python",
   "name": "python3"
  },
  "language_info": {
   "codemirror_mode": {
    "name": "ipython",
    "version": 3
   },
   "file_extension": ".py",
   "mimetype": "text/x-python",
   "name": "python",
   "nbconvert_exporter": "python",
   "pygments_lexer": "ipython3",
   "version": "3.6.15"
  }
 },
 "nbformat": 4,
 "nbformat_minor": 4
}
