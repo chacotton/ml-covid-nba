{
 "cells": [
  {
   "cell_type": "code",
   "execution_count": null,
   "metadata": {},
   "outputs": [],
   "source": [
    "from datetime import datetime\n",
    "import pandas as pd\n",
    "from prophet import Prophet\n",
    "import warnings\n",
    "warnings.filterwarnings('ignore')"
   ]
  },
  {
   "cell_type": "code",
   "execution_count": null,
   "metadata": {},
   "outputs": [],
   "source": [
    "df = pd.read_csv(\"joel_embiid_2020_2021.csv\")\n",
    "\n",
    "df_pre = df.iloc[:10,:]\n",
    "\n",
    "df_pre = df_pre[df_pre.MP != 'Did Not Play']\n",
    "df_pre = df_pre[df_pre.MP != 'Inactive']\n",
    "df_pre = df_pre[df_pre.MP != 'Did Not Dress']\n",
    "\n",
    "train = df_pre.values\n",
    "print(train.shape)\n",
    "\n",
    "df_pre['Date'] = pd.to_datetime(df_pre['Date'], format='%Y-%m-%d')\n",
    "print(df_pre.columns)\n",
    "df_pre = df_pre.rename(columns = {'Date': 'ds', 'PTS': 'y'})\n",
    "df_pre = df_pre[['ds', 'y']]"
   ]
  }
 ],
 "metadata": {
  "kernelspec": {
   "display_name": "Python 3.8.10 ('olreliable')",
   "language": "python",
   "name": "python3"
  },
  "language_info": {
   "name": "python",
   "version": "3.8.10"
  },
  "orig_nbformat": 4,
  "vscode": {
   "interpreter": {
    "hash": "64eea4284b0b8a9e814b0795ce1df06a6111730ec9dd5a594ddf3abce22d3f7f"
   }
  }
 },
 "nbformat": 4,
 "nbformat_minor": 2
}
